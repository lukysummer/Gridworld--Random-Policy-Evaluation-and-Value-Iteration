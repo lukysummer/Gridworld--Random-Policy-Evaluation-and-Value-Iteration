{
  "nbformat": 4,
  "nbformat_minor": 0,
  "metadata": {
    "colab": {
      "name": "GridWorld_RandomPolicyEvaluation.ipynb",
      "provenance": [],
      "collapsed_sections": []
    },
    "kernelspec": {
      "name": "python3",
      "display_name": "Python 3"
    }
  },
  "cells": [
    {
      "cell_type": "code",
      "metadata": {
        "id": "RFvJHszUE9DL",
        "colab_type": "code",
        "colab": {}
      },
      "source": [
        "import numpy as np\n",
        "from tabulate import tabulate"
      ],
      "execution_count": 3,
      "outputs": []
    },
    {
      "cell_type": "code",
      "metadata": {
        "id": "X6J7AmFWFA_a",
        "colab_type": "code",
        "colab": {}
      },
      "source": [
        "v = np.zeros(16)\n",
        "q = np.zeros((16,4))\n",
        "r = np.ones(16)*-1\n",
        "r[0] = r[-1] = 0\n",
        "threshold = 0.01\n",
        "delta = 0"
      ],
      "execution_count": 29,
      "outputs": []
    },
    {
      "cell_type": "code",
      "metadata": {
        "id": "fw47n4ELFZhb",
        "colab_type": "code",
        "colab": {
          "base_uri": "https://localhost:8080/",
          "height": 1000
        },
        "outputId": "27c64d74-96ff-41de-b068-f40c83357760"
      },
      "source": [
        "max_iter = 10000\n",
        "k = 0\n",
        "while k<max_iter and (delta > threshold or delta == 0):\n",
        "    for i in range(1,15,1):\n",
        "        v_prev = v[i]\n",
        "        i_up = i-4 if i>=4 else i\n",
        "        i_down = i+4 if i<12 else i\n",
        "        i_r = i+1 if (i+1)%4!=0 else i\n",
        "        i_l = i-1 if i%4!=0 else i\n",
        "        v[i] = 0.25*(r[i_up]+v[i_up] + r[i_down]+v[i_down] + r[i_r] + v[i_r] + r[i_l] + v[i_l]) # Up, Down, Right, Left\n",
        "        \n",
        "        delta = max(delta, abs(v_prev-v[i]))\n",
        "\n",
        "    if k%1000 == 0:\n",
        "        print(k)\n",
        "        print(delta)\n",
        "        print(np.array(v).reshape(4,4))    \n",
        "    k+= 1"
      ],
      "execution_count": 30,
      "outputs": [
        {
          "output_type": "stream",
          "text": [
            "0\n",
            "1.8203125\n",
            "[[ 0.         -0.75       -1.1875     -1.296875  ]\n",
            " [-0.75       -1.375      -1.640625   -1.734375  ]\n",
            " [-1.1875     -1.640625   -1.8203125  -1.63867188]\n",
            " [-1.296875   -1.734375   -1.63867188  0.        ]]\n",
            "1000\n",
            "1.8203125\n",
            "[[  0. -13. -19. -21.]\n",
            " [-13. -17. -19. -19.]\n",
            " [-19. -19. -17. -13.]\n",
            " [-21. -19. -13.   0.]]\n",
            "2000\n",
            "1.8203125\n",
            "[[  0. -13. -19. -21.]\n",
            " [-13. -17. -19. -19.]\n",
            " [-19. -19. -17. -13.]\n",
            " [-21. -19. -13.   0.]]\n",
            "3000\n",
            "1.8203125\n",
            "[[  0. -13. -19. -21.]\n",
            " [-13. -17. -19. -19.]\n",
            " [-19. -19. -17. -13.]\n",
            " [-21. -19. -13.   0.]]\n",
            "4000\n",
            "1.8203125\n",
            "[[  0. -13. -19. -21.]\n",
            " [-13. -17. -19. -19.]\n",
            " [-19. -19. -17. -13.]\n",
            " [-21. -19. -13.   0.]]\n",
            "5000\n",
            "1.8203125\n",
            "[[  0. -13. -19. -21.]\n",
            " [-13. -17. -19. -19.]\n",
            " [-19. -19. -17. -13.]\n",
            " [-21. -19. -13.   0.]]\n",
            "6000\n",
            "1.8203125\n",
            "[[  0. -13. -19. -21.]\n",
            " [-13. -17. -19. -19.]\n",
            " [-19. -19. -17. -13.]\n",
            " [-21. -19. -13.   0.]]\n",
            "7000\n",
            "1.8203125\n",
            "[[  0. -13. -19. -21.]\n",
            " [-13. -17. -19. -19.]\n",
            " [-19. -19. -17. -13.]\n",
            " [-21. -19. -13.   0.]]\n",
            "8000\n",
            "1.8203125\n",
            "[[  0. -13. -19. -21.]\n",
            " [-13. -17. -19. -19.]\n",
            " [-19. -19. -17. -13.]\n",
            " [-21. -19. -13.   0.]]\n",
            "9000\n",
            "1.8203125\n",
            "[[  0. -13. -19. -21.]\n",
            " [-13. -17. -19. -19.]\n",
            " [-19. -19. -17. -13.]\n",
            " [-21. -19. -13.   0.]]\n"
          ],
          "name": "stdout"
        }
      ]
    },
    {
      "cell_type": "code",
      "metadata": {
        "id": "STo2jaaEPoRx",
        "colab_type": "code",
        "colab": {}
      },
      "source": [
        "for i in range(1,15,1):\n",
        "    i_up = i-4 if i>=4 else i\n",
        "    i_down = i+4 if i<12 else i\n",
        "    i_r = i+1 if (i+1)%4!=0 else i\n",
        "    i_l = i-1 if i%4!=0 else i\n",
        "    q[i] = [r[i] + v[i_up], r[i] + v[i_down], r[i] + v[i_r], r[i] + v[i_l]]"
      ],
      "execution_count": null,
      "outputs": []
    },
    {
      "cell_type": "code",
      "metadata": {
        "id": "voIdiuR4W67V",
        "colab_type": "code",
        "colab": {
          "base_uri": "https://localhost:8080/",
          "height": 289
        },
        "outputId": "511674ae-8b35-4943-fc63-c4d71e14d973"
      },
      "source": [
        "for i, state in enumerate(q):\n",
        "    print(i, state)"
      ],
      "execution_count": 32,
      "outputs": [
        {
          "output_type": "stream",
          "text": [
            "0 [0. 0. 0. 0.]\n",
            "1 [-14. -18. -20.  -1.]\n",
            "2 [-20. -20. -22. -14.]\n",
            "3 [-22. -20. -22. -20.]\n",
            "4 [ -1. -20. -18. -14.]\n",
            "5 [-14. -20. -20. -14.]\n",
            "6 [-20. -18. -20. -18.]\n",
            "7 [-22. -14. -20. -20.]\n",
            "8 [-14. -22. -20. -20.]\n",
            "9 [-18. -20. -18. -20.]\n",
            "10 [-20. -14. -14. -20.]\n",
            "11 [-20.  -1. -14. -18.]\n",
            "12 [-20. -22. -20. -22.]\n",
            "13 [-20. -20. -14. -22.]\n",
            "14 [-18. -14.  -1. -20.]\n",
            "15 [0. 0. 0. 0.]\n"
          ],
          "name": "stdout"
        }
      ]
    },
    {
      "cell_type": "code",
      "metadata": {
        "id": "jHSSeewOXIgC",
        "colab_type": "code",
        "colab": {}
      },
      "source": [
        ""
      ],
      "execution_count": null,
      "outputs": []
    }
  ]
}