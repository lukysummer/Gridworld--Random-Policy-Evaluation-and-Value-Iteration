{
  "nbformat": 4,
  "nbformat_minor": 0,
  "metadata": {
    "colab": {
      "name": "GridWorld_Example.ipynb",
      "provenance": [],
      "collapsed_sections": []
    },
    "kernelspec": {
      "name": "python3",
      "display_name": "Python 3"
    }
  },
  "cells": [
    {
      "cell_type": "markdown",
      "metadata": {
        "id": "1Y419Nml_ld8",
        "colab_type": "text"
      },
      "source": [
        "# GRIDWORLD\n",
        "\n",
        "from [Intro to RL Textbook](https://www.andrew.cmu.edu/course/10-703/textbook/BartoSutton.pdf) Chapter 4, p.76\n",
        "\n",
        "* S = {1, 2,..., 14}\n",
        "* A = {up, down, right, left} at each state\n",
        "* Each action **deterministically** cause the corresponding state transitions, EXCEPT actions that would take the agent out of the grid leave the state unchanged.\n",
        "* undiscounted, episodic task\n",
        "* **reward = -1** on all transitions until the terminal state is reached\n",
        "* expected reward function = r(s, a, s') = -1 for all states s, s' and actions a. \n",
        "* terminal states: upper-leftmost cell & lower-rightmost cell\n",
        "\n",
        "\n",
        "# 1 Policy Evaluation\n",
        "\n",
        "(for Random policy, with equal probability of moving up, down, right, or left)"
      ]
    },
    {
      "cell_type": "code",
      "metadata": {
        "id": "RFvJHszUE9DL",
        "colab_type": "code",
        "colab": {}
      },
      "source": [
        "import numpy as np"
      ],
      "execution_count": 77,
      "outputs": []
    },
    {
      "cell_type": "code",
      "metadata": {
        "id": "X6J7AmFWFA_a",
        "colab_type": "code",
        "colab": {}
      },
      "source": [
        "# Initialize v, q & define r\n",
        "v = np.zeros(16)\n",
        "q = np.zeros((16,4))\n",
        "r = np.ones(16)*-1\n",
        "r[0] = r[-1] = 0"
      ],
      "execution_count": 82,
      "outputs": []
    },
    {
      "cell_type": "code",
      "metadata": {
        "id": "kg9Q-_Bb_0iT",
        "colab_type": "code",
        "colab": {}
      },
      "source": [
        "def next_i(i):\n",
        "    i_up = i-4 if i>=4 else i\n",
        "    i_down = i+4 if i<12 else i\n",
        "    i_r = i+1 if (i+1)%4!=0 else i\n",
        "    i_l = i-1 if i%4!=0 else i\n",
        "    return i_up, i_down, i_r, i_l"
      ],
      "execution_count": 83,
      "outputs": []
    },
    {
      "cell_type": "code",
      "metadata": {
        "id": "fw47n4ELFZhb",
        "colab_type": "code",
        "colab": {
          "base_uri": "https://localhost:8080/",
          "height": 102
        },
        "outputId": "d60f9bb3-5e7b-4767-e65e-24fbd7e329ef"
      },
      "source": [
        "# Policy Evaluation\n",
        "max_iter = 10000\n",
        "k = 0\n",
        "cnt = 0\n",
        "deltas = np.zeros(14)\n",
        "while k<max_iter:\n",
        "    prev_deltas = deltas.copy()\n",
        "    \n",
        "    for i in range(1,15,1):\n",
        "        v_prev = v[i]\n",
        "        i_up, i_down, i_r, i_l = next_i(i)\n",
        "        v[i] = 0.25*(r[i_up] + v[i_up] +\n",
        "                     r[i_down] + v[i_down] +\n",
        "                     r[i_r] + v[i_r] +\n",
        "                     r[i_l] + v[i_l]) # Up, Down, Right, Left       \n",
        "        deltas[i-1] = max(deltas[i-1], abs(v_prev-v[i]))\n",
        "    \n",
        "    if deltas.all() == prev_deltas.all():\n",
        "        cnt += 1 \n",
        "        if cnt > 1000:\n",
        "            break\n",
        "    k+= 1\n",
        "\n",
        "print(\"Value Function for Random Policy:\")\n",
        "print(np.array(v).reshape(4,4))    "
      ],
      "execution_count": 84,
      "outputs": [
        {
          "output_type": "stream",
          "text": [
            "Value Function for Random Policy:\n",
            "[[  0. -13. -19. -21.]\n",
            " [-13. -17. -19. -19.]\n",
            " [-19. -19. -17. -13.]\n",
            " [-21. -19. -13.   0.]]\n"
          ],
          "name": "stdout"
        }
      ]
    },
    {
      "cell_type": "code",
      "metadata": {
        "id": "STo2jaaEPoRx",
        "colab_type": "code",
        "colab": {}
      },
      "source": [
        "for i in range(1,15,1):\n",
        "    i_up, i_down, i_r, i_l = next_i(i)\n",
        "    q[i] = [r[i] + v[i_up], r[i] + v[i_down], r[i] + v[i_r], r[i] + v[i_l]]"
      ],
      "execution_count": null,
      "outputs": []
    },
    {
      "cell_type": "code",
      "metadata": {
        "id": "voIdiuR4W67V",
        "colab_type": "code",
        "colab": {
          "base_uri": "https://localhost:8080/",
          "height": 289
        },
        "outputId": "511674ae-8b35-4943-fc63-c4d71e14d973"
      },
      "source": [
        "for i, state in enumerate(q):\n",
        "    print(i, state)"
      ],
      "execution_count": 32,
      "outputs": [
        {
          "output_type": "stream",
          "text": [
            "0 [0. 0. 0. 0.]\n",
            "1 [-14. -18. -20.  -1.]\n",
            "2 [-20. -20. -22. -14.]\n",
            "3 [-22. -20. -22. -20.]\n",
            "4 [ -1. -20. -18. -14.]\n",
            "5 [-14. -20. -20. -14.]\n",
            "6 [-20. -18. -20. -18.]\n",
            "7 [-22. -14. -20. -20.]\n",
            "8 [-14. -22. -20. -20.]\n",
            "9 [-18. -20. -18. -20.]\n",
            "10 [-20. -14. -14. -20.]\n",
            "11 [-20.  -1. -14. -18.]\n",
            "12 [-20. -22. -20. -22.]\n",
            "13 [-20. -20. -14. -22.]\n",
            "14 [-18. -14.  -1. -20.]\n",
            "15 [0. 0. 0. 0.]\n"
          ],
          "name": "stdout"
        }
      ]
    },
    {
      "cell_type": "markdown",
      "metadata": {
        "id": "Jpy7Lzdr_xft",
        "colab_type": "text"
      },
      "source": [
        "# 2 Value Iteration"
      ]
    },
    {
      "cell_type": "code",
      "metadata": {
        "id": "gweqVOLyOsQr",
        "colab_type": "code",
        "colab": {}
      },
      "source": [
        "# Initialize v, q & define r\n",
        "v = np.zeros(16)\n",
        "q = np.zeros((16,4))\n",
        "r = np.ones(16)*-1\n",
        "r[0] = r[-1] = 0"
      ],
      "execution_count": 74,
      "outputs": []
    },
    {
      "cell_type": "code",
      "metadata": {
        "id": "jHSSeewOXIgC",
        "colab_type": "code",
        "colab": {
          "base_uri": "https://localhost:8080/",
          "height": 238
        },
        "outputId": "3b98c93e-cc9b-4d64-a475-a1c4e39f07d4"
      },
      "source": [
        "# I. Policy Evaluation\n",
        "max_iter = 10000\n",
        "k = 0\n",
        "cnt = 0\n",
        "deltas = np.zeros(14)\n",
        "while k<max_iter:\n",
        "    prev_deltas = deltas.copy()\n",
        "    \n",
        "    for i in range(1,15,1):\n",
        "        v_prev = v[i]\n",
        "        i_up, i_down, i_r, i_l = next_i(i)\n",
        "        v[i] = max(r[i_up] + v[i_up], \n",
        "                   r[i_down] + v[i_down], \n",
        "                   r[i_r] + v[i_r], \n",
        "                   r[i_l] + v[i_l]) # Up, Down, Right, Left     \n",
        "        deltas[i-1] = max(deltas[i-1], abs(v_prev-v[i]))\n",
        "    \n",
        "    if deltas.all() == prev_deltas.all():\n",
        "        cnt += 1 \n",
        "        if cnt > 1000:\n",
        "            break   \n",
        "    k+= 1\n",
        "\n",
        "print(\"Opitmal Value Function:\")\n",
        "print(np.array(v).reshape(4,4))  \n",
        "\n",
        "# II. Policy Update\n",
        "policy = np.zeros(16)\n",
        "for i in range(1,15,1):\n",
        "    i_up, i_down, i_r, i_l = next_i(i)\n",
        "    policy[i] = np.argmax([r[i_up] + v[i_up], \n",
        "                           r[i_down] + v[i_down], \n",
        "                           r[i_r] + v[i_r], \n",
        "                           r[i_l] + v[i_l]])\n",
        "\n",
        "print(\"\\n\\nOptimal Policy:\\n(0 = Up, 1 = Down, 2 = Right, 3 = Left)\")\n",
        "print(policy.reshape(4,4))"
      ],
      "execution_count": 75,
      "outputs": [
        {
          "output_type": "stream",
          "text": [
            "Opitmal Value Function:\n",
            "[[ 0.  0. -1. -2.]\n",
            " [ 0. -1. -2. -1.]\n",
            " [-1. -2. -1.  0.]\n",
            " [-2. -1.  0.  0.]]\n",
            "\n",
            "\n",
            "Optimal Policy:\n",
            "(0 = Up, 1 = Down, 2 = Right, 3 = Left)\n",
            "[[0. 3. 3. 1.]\n",
            " [0. 0. 0. 1.]\n",
            " [0. 0. 1. 1.]\n",
            " [0. 2. 2. 0.]]\n"
          ],
          "name": "stdout"
        }
      ]
    },
    {
      "cell_type": "code",
      "metadata": {
        "id": "BKhKDkceRPIp",
        "colab_type": "code",
        "colab": {}
      },
      "source": [
        ""
      ],
      "execution_count": null,
      "outputs": []
    }
  ]
}